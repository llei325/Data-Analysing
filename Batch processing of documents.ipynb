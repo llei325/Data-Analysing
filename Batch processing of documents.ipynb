{
 "cells": [
  {
   "cell_type": "markdown",
   "metadata": {},
   "source": [
    "os模块"
   ]
  },
  {
   "cell_type": "code",
   "execution_count": 1,
   "metadata": {},
   "outputs": [],
   "source": [
    "import os"
   ]
  },
  {
   "cell_type": "code",
   "execution_count": 2,
   "metadata": {},
   "outputs": [
    {
     "data": {
      "text/plain": [
       "'C:\\\\Users\\\\Lenovo\\\\Desktop\\\\machine learning'"
      ]
     },
     "execution_count": 2,
     "metadata": {},
     "output_type": "execute_result"
    }
   ],
   "source": [
    "os.getcwd()"
   ]
  },
  {
   "cell_type": "code",
   "execution_count": 3,
   "metadata": {},
   "outputs": [
    {
     "data": {
      "text/plain": [
       "'nt'"
      ]
     },
     "execution_count": 3,
     "metadata": {},
     "output_type": "execute_result"
    }
   ],
   "source": [
    "os.name"
   ]
  },
  {
   "cell_type": "code",
   "execution_count": 4,
   "metadata": {},
   "outputs": [],
   "source": [
    "os.mkdir('./folder')"
   ]
  },
  {
   "cell_type": "code",
   "execution_count": 5,
   "metadata": {},
   "outputs": [
    {
     "data": {
      "text/plain": [
       "'C:\\\\Users\\\\Lenovo\\\\Desktop\\\\machine learning\\\\folder'"
      ]
     },
     "execution_count": 5,
     "metadata": {},
     "output_type": "execute_result"
    }
   ],
   "source": [
    "os.path.abspath('./folder')"
   ]
  },
  {
   "cell_type": "code",
   "execution_count": 6,
   "metadata": {},
   "outputs": [
    {
     "data": {
      "text/plain": [
       "True"
      ]
     },
     "execution_count": 6,
     "metadata": {},
     "output_type": "execute_result"
    }
   ],
   "source": [
    "os.path.isdir('./folder')"
   ]
  },
  {
   "cell_type": "code",
   "execution_count": 7,
   "metadata": {},
   "outputs": [
    {
     "data": {
      "text/plain": [
       "True"
      ]
     },
     "execution_count": 7,
     "metadata": {},
     "output_type": "execute_result"
    }
   ],
   "source": [
    "os.path.isfile('./Batch processing of documents.ipynb')"
   ]
  },
  {
   "cell_type": "code",
   "execution_count": 8,
   "metadata": {},
   "outputs": [
    {
     "data": {
      "text/plain": [
       "('./Batch processing of documents', '.ipynb')"
      ]
     },
     "execution_count": 8,
     "metadata": {},
     "output_type": "execute_result"
    }
   ],
   "source": [
    "os.path.splitext('./Batch processing of documents.ipynb')"
   ]
  },
  {
   "cell_type": "code",
   "execution_count": 9,
   "metadata": {},
   "outputs": [
    {
     "data": {
      "text/plain": [
       "True"
      ]
     },
     "execution_count": 9,
     "metadata": {},
     "output_type": "execute_result"
    }
   ],
   "source": [
    "os.path.exists('./Batch processing of documents.ipynb')"
   ]
  },
  {
   "cell_type": "code",
   "execution_count": 10,
   "metadata": {},
   "outputs": [
    {
     "data": {
      "text/plain": [
       "1611576283.5105176"
      ]
     },
     "execution_count": 10,
     "metadata": {},
     "output_type": "execute_result"
    }
   ],
   "source": [
    "result=os.path.getctime('./folder')\n",
    "result"
   ]
  },
  {
   "cell_type": "code",
   "execution_count": 11,
   "metadata": {},
   "outputs": [
    {
     "data": {
      "text/plain": [
       "time.struct_time(tm_year=2021, tm_mon=1, tm_mday=25, tm_hour=20, tm_min=4, tm_sec=43, tm_wday=0, tm_yday=25, tm_isdst=0)"
      ]
     },
     "execution_count": 11,
     "metadata": {},
     "output_type": "execute_result"
    }
   ],
   "source": [
    "import time\n",
    "timearr=time.localtime(result)\n",
    "timearr"
   ]
  },
  {
   "cell_type": "code",
   "execution_count": 12,
   "metadata": {},
   "outputs": [
    {
     "data": {
      "text/plain": [
       "'2021-01-25 20:04:43'"
      ]
     },
     "execution_count": 12,
     "metadata": {},
     "output_type": "execute_result"
    }
   ],
   "source": [
    "mytime=time.strftime('%Y-%m-%d %H:%M:%S',timearr)\n",
    "mytime"
   ]
  },
  {
   "cell_type": "code",
   "execution_count": 13,
   "metadata": {},
   "outputs": [
    {
     "data": {
      "text/plain": [
       "['mystandardscale.txt',\n",
       " 'polynomialregression.txt',\n",
       " 'simplelinearregression1.txt',\n",
       " '计网笔记1.docx',\n",
       " '计网笔记2.docx',\n",
       " '计网笔记3.docx']"
      ]
     },
     "execution_count": 13,
     "metadata": {},
     "output_type": "execute_result"
    }
   ],
   "source": [
    "os.listdir('./some code')"
   ]
  },
  {
   "cell_type": "code",
   "execution_count": 14,
   "metadata": {},
   "outputs": [],
   "source": [
    "oldpath=os.path.join('./some code','simplelinearregression1.txt')\n",
    "newpath=os.path.join('./some code','simplelinearregression.txt')\n",
    "os.rename(oldpath,newpath)"
   ]
  },
  {
   "cell_type": "markdown",
   "metadata": {},
   "source": [
    "批量修改文件名"
   ]
  },
  {
   "cell_type": "code",
   "execution_count": 15,
   "metadata": {},
   "outputs": [],
   "source": [
    "import os\n",
    "def filename_add(target_dir,addstr,position='end',filetype=None):\n",
    "    try:\n",
    "        i=0\n",
    "        for file in os.listdir(target_dir):\n",
    "            filename=os.path.splitext(file)[0]\n",
    "            fileexpand=os.path.splitext(file)[1]\n",
    "            if fileexpand=='':\n",
    "                continue\n",
    "            if filetype!=None and filetype not in fileexpand:\n",
    "                continue\n",
    "            i+=1\n",
    "            if position=='end':\n",
    "                newname=filename+addstr[i-1]+fileexpand \n",
    "            elif position=='head':\n",
    "                newname=addstr[i-1]+filename+fileexpand \n",
    "            oldpath=os.path.join(target_dir,file)\n",
    "            newpath=os.path.join(target_dir,newname)\n",
    "            os.rename(oldpath,newpath)\n",
    "    except:\n",
    "            return 'path is not exist'"
   ]
  },
  {
   "cell_type": "code",
   "execution_count": 16,
   "metadata": {},
   "outputs": [],
   "source": [
    "filename_add('./some code',['a','b','c'],'head',filetype='docx')"
   ]
  },
  {
   "cell_type": "code",
   "execution_count": 17,
   "metadata": {},
   "outputs": [],
   "source": [
    "import re\n",
    "def filename_replace(target_dir,oldstr,newstr,filetype=None):\n",
    "    try:\n",
    "        i=0\n",
    "        for file in os.listdir(target_dir):\n",
    "            filename=os.path.splitext(file)[0]\n",
    "            fileexpand=os.path.splitext(file)[1]\n",
    "            if fileexpand=='':\n",
    "                continue\n",
    "            if filetype!=None and filetype not in fileexpand:\n",
    "                continue\n",
    "            i+=1\n",
    "            pattern=re.findall(oldstr[i-1],filename)\n",
    "            for value in pattern:\n",
    "                filename=filename.replace(value,newstr[i-1])\n",
    "            newname=filename+fileexpand\n",
    "            oldpath=os.path.join(target_dir,file)\n",
    "            newpath=os.path.join(target_dir,newname)\n",
    "            os.rename(oldpath,newpath)\n",
    "    except:\n",
    "            return 'path is not exist'"
   ]
  },
  {
   "cell_type": "code",
   "execution_count": 18,
   "metadata": {},
   "outputs": [],
   "source": [
    "filename_replace('./some code',oldstr=['1','2','3'],newstr=['a','b','c'],filetype='docx')"
   ]
  },
  {
   "cell_type": "markdown",
   "metadata": {},
   "source": [
    "re模块"
   ]
  },
  {
   "cell_type": "code",
   "execution_count": 19,
   "metadata": {},
   "outputs": [],
   "source": [
    "import re"
   ]
  },
  {
   "cell_type": "code",
   "execution_count": 20,
   "metadata": {},
   "outputs": [
    {
     "data": {
      "text/plain": [
       "['13888888888', '13666666666']"
      ]
     },
     "execution_count": 20,
     "metadata": {},
     "output_type": "execute_result"
    }
   ],
   "source": [
    "str=\"我的电话号是：13888888888，他的电话号是：13666666666\"\n",
    "re.findall('\\d{11}',str)"
   ]
  }
 ],
 "metadata": {
  "kernelspec": {
   "display_name": "Python 3",
   "language": "python",
   "name": "python3"
  },
  "language_info": {
   "codemirror_mode": {
    "name": "ipython",
    "version": 3
   },
   "file_extension": ".py",
   "mimetype": "text/x-python",
   "name": "python",
   "nbconvert_exporter": "python",
   "pygments_lexer": "ipython3",
   "version": "3.8.5"
  }
 },
 "nbformat": 4,
 "nbformat_minor": 4
}
